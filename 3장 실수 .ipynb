{
 "cells": [
  {
   "cell_type": "markdown",
   "metadata": {},
   "source": [
    "```\n",
    "실수 표현은 표현 범위가 넓은 대신 정밀도가 낮다.\n",
    "\n",
    "\n",
    "        3.  실수\n",
    "            1. 실수 연산의 함정\n",
    "            2. 부동소수점\n",
    "            3. 단정도와 배정도\n",
    "            4. 1 바이트 실수 자료형 설계하기\n",
    "                4.1 10진수 실수를 2진수 실수로 바꾸기\n",
    "                4.2 정규화\n",
    "                4.3 메모리 구조\n",
    "                4.4 1바이트 부동소수점의 표현 범위\n",
    "                4.5 1바이트 부동소수점의 정밀도\n",
    "            5. 정밀도에 대한 고찰\n",
    "                5.1 엡실론\n",
    "                5.2 엡실론과 정밀도\n",
    "            6. 마무리\n",
    "\n",
    "\n",
    "\n",
    "1. 실수 연산의 함정\n",
    "    \n",
    "        # 1. 실수 연산의 함정\n",
    "\n",
    "        a = 0.1\n",
    "        result = 0.0    \n",
    "        for i in range(100):\n",
    "        result +=a\n",
    "\n",
    "        print(result)\n",
    "\n",
    "        ---------->\n",
    "        9.99999999999998\n",
    "    \n",
    "        0.01 이 100번이니 1이 나오길 기대 하지만 결과는 예상과 달리 1에 가까운 수가 나온다. \n",
    "\n",
    "        a = 0.015625\n",
    "        result = 0.0\n",
    "        for i in range(100):\n",
    "        result +=a\n",
    "        print(result)       \n",
    "        ---------->\n",
    "        1.5625\n",
    "\n",
    "        0.01 보다 복잡한 수여서 1.5625 보다 오차가 클 것 같지만 이번에는 정확한 1.5625 가 나온다. \n",
    "        \n",
    "        이 결과를 이해하기 위해선 컴퓨터에서 실수를 표현하는 방법인 부동 소수점 이라는 개념을 이해해야 한다. \n",
    "\n",
    "\n",
    "2.  부동소수점 \n",
    "    \n",
    "    부동소수점은 소수점이 둥둥 떠다닌다는 뜻.\n",
    "    \n",
    "    가령 123.46을 다음과 같이 다양한 방법으로 표현 가능\n",
    "    123.456 ---------->  1.23456 x 10^2\n",
    "                                       12.3456 x 10^1\n",
    "                                       1234.56 x 10^ (-1)\n",
    "\n",
    "\n",
    "3. 단정도와 배정도 \n",
    "        \n",
    "        단정도 \n",
    "            32비트( 8바이트 )\n",
    "            부호 1비트, 지수부 8 비트, 가수부 23비트\n",
    "            ()         ()()()()()()()()        ()()()()()()()()()()()()()()()()()()()()()()()\n",
    "\n",
    "        배정도\n",
    "            64비트(8바이트)\n",
    "            부포 1비트, 지수부 11비트, 가수부 52비트 \n",
    "\n",
    "        파이썬은 배정도를 사용. ( 단정도보다 훨씬 정밀도 높다.)\n",
    "        \n",
    "        sys 모듈 임포트 해서 확인해 보면 최댓값, 최솟값, 정밀도 등을 확인할 수 있다. \n",
    "        \n",
    "        import sys\n",
    "        sys.float_info\n",
    "        ------------->\n",
    "                sys.float_info(max=1.7976931348623157e+308, max_exp=1024, max_10_exp=308, min=2.22507        38585072014e-308, min_exp=-1021, min_10_exp=-307, dig=15, mant_dig=53, epsilon=2.22        0446049250313e-16, radix=2, rounds=1)\n",
    "        \n",
    "         # 배정도 부동수수점으로 표현할 수 있는 가장 큰 수 \n",
    "            sys.float_info.max\n",
    "            ---------->\n",
    "                1.7976931348623157e+308\n",
    "\n",
    "        # 배정도 부동소수점으로 표현할 수 있는 가장 작은 수 \n",
    "        sys.float_info.min\n",
    "        ----------->\n",
    "       2.2250738585072014e-308\n",
    "\n",
    "\n",
    "4. 1 바이트 실수 자료형 설계하기 \n",
    "    \n",
    "    실수 표현 방식을 쉽게 이해할 수 있도록   실수 자료형을 직접 만들어 보겠다. \n",
    "    다음은 실수 자료형을 표현한 수식\n",
    "            \n",
    "                +- 1.man x 2 ^ (exp - bias)\n",
    "\n",
    "        1.man은 가수 (mantissa/fraction)\n",
    "        2 는 밑수 \n",
    "        exp - bias는 지수 (exponent)\n",
    "\n",
    "        7.75 라는 10진수 실수를 1바이트 부동소수점으로 표현해 보겠다.\n",
    "        \n",
    "       4.1. 10진수 --> 2진수 \n",
    "                7.75 -----> 111.11  ( 2^2 + 2^1 + 2^0 + 2^-1 + 2^-2)\n",
    "        \n",
    "        4.2. 정규화 \n",
    "                왼쪽에 위치한 가수부분을 밑수보다 작은 자연수 되도록 만드는것.        \n",
    "                2진수의 밑수는 2여서 보다 작은 자연수 1밖에 없다. \n",
    "                111.11 -----> 1.1111 x 2 ^2\n",
    "             \n",
    "        4.3. 메모리 구조\n",
    "                정규화 된 1.1111 x 2^2를 앞 수식 +- 1.man x 2^(exp - bias) 와 비교해 보자.\n",
    "                man --> 1111\n",
    "                exp - bias --> 2\n",
    "                이제 1 바이트의 메모리 구조를 정하고, man과 exp 값만 저장하면 설계가 끝난다. \n",
    "                이때 지수부, 가수부에 할당하는 비트 수에 따라 표현 범위와 정밀도가 결정된다. \n",
    "    \n",
    "                        0    0000    000\n",
    "                      부호  지수부    가수부 \n",
    "\n",
    "                부호 --> 0, 1 \n",
    "                지수부 --> exp값   (부호 비트 x 0~15의 양수 나타냄.)\n",
    "                가수부 --> man값\n",
    "        \n",
    "                 bias는 지수의 부호 결정하는데 쓰임\n",
    "                음수를 사용하려면 bias를 7로 두고 지수부(exp)에서 bias를 실제 지수로 사용한다. \n",
    "                bias  = 2 ^(n-1) -1  ( n 은 지수부 비트수. 여기서는 4 대입----> 7 )\n",
    "                exp - bias (7)  = 2(실제지수) 이므로 \n",
    "                exp = 9 \n",
    "                \n",
    "                부호  --> 0 \n",
    "                지수부 --> 1001\n",
    "                가수부 --> 1111\n",
    "                \n",
    "                문제는 가수부 3비트 할당인데 우리가 가진것은 4자리 ---> 맨 뒤 1 생략한다.\n",
    "                \n",
    "                0    1001     111     =    0100    1111 = 0x4f ( 실수 7.75를 1바이트 부동소수점으로 나타낸것.\n",
    "        \n",
    "        4.4 1바이트 부동 소수점의 표현 범위\n",
    "                \n",
    "                우리가 설계한 1바이트 부동소수점으로\n",
    "                \n",
    "                        표현할 수 있는 가장 작은 수 (지수부가 0001일 때) ---> 1.00 0 x 2^(-6)  = 0.015625\n",
    "                        표현할 수 있는 가장 큰 수 (지수부가 1110 일때 ) ------> 1.111 x 2^7 = 240\n",
    "\n",
    "                ( 단 지수부 비트가 모두 0 일때 (2^(-7)) 와 모두 1일 때 (2^8)는 0.0, 정규화 불가능, 무한대 NaN(Not a Number)같은 \n",
    "                    특별한 상황을 나타내므로 제외한다. )\n",
    "\n",
    "        4.5 1 바이트 부동 솟수점의 정밀도\n",
    "                \n",
    "                변환 과정에서 가수부 1111을 담을 공간이 부족해서 뒤의1을 표현 못했다. \n",
    "                0x4f      =       01001111 = 1.111x 2^2 =    111.1   =  7.5 는    7.75라는 실수를 완벽하게 표현 못한다. \n",
    "                0.25 만큼차이 나므로 그만큼 정밀도 떨어진다. \n",
    "        \n",
    "이 블로그 참고 해라 .(바이어스 상수, 바이어스 표현법으로 -4의  16 부동소수법 값 구해봄.) \n",
    "                \n",
    "        \n",
    "\n",
    "5. 정밀도에 대한 고찰 \n",
    "    \n",
    "    5.1 엡실론\n",
    "        실수 자료형에서 엡실론(epsilon)이란 1.0 과 그 다음으로 표현 가능한 수 (representable float) 사이의 차이를 말한다.\n",
    "\n",
    "    \n",
    "        import sys\n",
    "        sys.float_info.epsilon\n",
    "        ---------->\n",
    "        2.220446049250313e-16\n",
    "\n",
    "        sys 모듈의 float_info에 있는 epsilon을 출력한 결과.  \n",
    "        이 값이 어떻게 나왔을까? \n",
    "        \n",
    "        3절에서 파이썬이 사용하는 배정도(double)의 가수부가 52비트라 했다. \n",
    "        1.0을 배정도에 맞춰 표현하면 다음과 같다. \n",
    "        \n",
    "                1.0000 ......0000( 0:52개) x 2^0\n",
    "\n",
    "        배정도에서 1.0 다음으로 표현할 수 있는 수(representable float)는 다음과 같다.\n",
    "            \n",
    "                1.0000......00000(0:51개 , 1:마지막 비트 ) x 2^0\n",
    "\n",
    "        따라서 두수의 차이는 \n",
    "                \n",
    "                0.00000.....00000(0:51개 , 마지막 비트1) x 2^0\n",
    "\n",
    "        이를 10진수로 바꾸면 엡실론이 나온다. \n",
    "\n",
    "                2.220446049250313e-16\n",
    "    5.2 엡실론과 정밀도 \n",
    "        \n",
    "            엡실론을 이용하면 그 실수 다음에 표현할 수 있는 수를 알아낼 수 있다. \n",
    "            배정도 실수 9.25를 부동소수점 방식으로 표현하면 1.00101 x 2^3\n",
    "            여기서 지수부분만 떼어 엡실론을 곱하면\n",
    "            이 실수와 다음 표현 가능한 수 사이의 차이 구할수 있다.\n",
    "\n",
    "\n",
    "# 5.2 엡실론과 정밀도\n",
    " \n",
    "import sys\n",
    "ep = sys.float_info.epsilon\n",
    "a = 9.25\n",
    "diff = (2**3)*ep\n",
    "diff\n",
    "\n",
    "\n",
    "\n",
    "\n",
    "\n",
    "\n",
    "\n",
    "Out[10]:\n",
    "1.7763568394002505e-15\n",
    "b = a+diff\n",
    "b\n",
    "\n",
    "\n",
    "Out[12]:\n",
    "9.250000000000002\n",
    "\n",
    "diff는 지수부분인 2^3 에 엡실론을 곱한 값으로 9.25와 그 다음 표현 가능한 수 사이의 차이이다. \n",
    "b 는 a에 diff를 더했으므로 9.25 다음에 표현 가능한 수를 나타낸다. \n",
    "\n",
    "\n",
    "# 5.2 엡실론과 정밀도 \n",
    " \n",
    "import sys\n",
    "ep = sys.float_info.epsilon\n",
    "diff = (2**3)*ep\n",
    "diff\n",
    "a = 9.25\n",
    "half_diff = diff/2\n",
    " \n",
    "c = a + half_diff\n",
    "a == c\n",
    " \n",
    "\n",
    "\n",
    "Out[13]:\n",
    "True\n",
    "\n",
    "diff보다 작은 값을 더한 수를 부동소수점 방식에서는 표현 할 수 없다.  = 정밀도가 떨어진다. \n",
    "\n",
    " \n",
    "a = (2.0) ** 53\n",
    "a\n",
    " \n",
    "\n",
    "\n",
    "Out[15]:\n",
    "9007199254740992.0\n",
    " \n",
    "diff_new = (2**53)*ep\n",
    "diff_new\n",
    "\n",
    "\n",
    "Out[17]:\n",
    "2.0\n",
    " \n",
    "b = a+1.0\n",
    "a == b\n",
    " \n",
    "\n",
    "\n",
    "Out[18]:\n",
    "True\n",
    "\n",
    "\n",
    "여기서도 마찬가지. diff 가 2.0 이라서 \n",
    "그보다 작은 1.0을 a 에 더해주면 그 차이를 표현 못한다. \n",
    "\n",
    "\n",
    "\n",
    "\n",
    "마무리.\n",
    "\n",
    "부동 소수점은 지수부에 따라 아주 작은 수와 아주 큰 수를 표현할 수 있지만 어떤 상황에서는 16, 17과 큰 단위의 정수조차 제대로 표현할 수 없을 때도 있다. \n",
    "표현범위는 넓지만 정밀도는 낮다. \n",
    "\n",
    "```"
   ]
  },
  {
   "cell_type": "code",
   "execution_count": null,
   "metadata": {},
   "outputs": [],
   "source": []
  },
  {
   "cell_type": "code",
   "execution_count": null,
   "metadata": {},
   "outputs": [],
   "source": []
  },
  {
   "cell_type": "code",
   "execution_count": null,
   "metadata": {},
   "outputs": [],
   "source": []
  },
  {
   "cell_type": "code",
   "execution_count": null,
   "metadata": {},
   "outputs": [],
   "source": [
    "# 1. 실수 연산의 함정\n",
    "\n",
    "a = 0.1\n",
    "result = 0.0\n",
    "for i in range(100):\n",
    "    result +=a\n",
    "\n",
    "print(result)"
   ]
  },
  {
   "cell_type": "code",
   "execution_count": 4,
   "metadata": {},
   "outputs": [
    {
     "name": "stdout",
     "output_type": "stream",
     "text": [
      "1.5625\n"
     ]
    }
   ],
   "source": [
    "a = 0.015625\n",
    "result = 0.0\n",
    "for i in range(100):\n",
    "    result +=a\n",
    "\n",
    "print(result)"
   ]
  },
  {
   "cell_type": "code",
   "execution_count": 5,
   "metadata": {},
   "outputs": [
    {
     "data": {
      "text/plain": [
       "sys.float_info(max=1.7976931348623157e+308, max_exp=1024, max_10_exp=308, min=2.2250738585072014e-308, min_exp=-1021, min_10_exp=-307, dig=15, mant_dig=53, epsilon=2.220446049250313e-16, radix=2, rounds=1)"
      ]
     },
     "execution_count": 5,
     "metadata": {},
     "output_type": "execute_result"
    }
   ],
   "source": [
    "# 3. 단정도와 배정도\n",
    "\n",
    "import sys\n",
    "sys.float_info"
   ]
  },
  {
   "cell_type": "code",
   "execution_count": 6,
   "metadata": {},
   "outputs": [
    {
     "data": {
      "text/plain": [
       "1.7976931348623157e+308"
      ]
     },
     "execution_count": 6,
     "metadata": {},
     "output_type": "execute_result"
    }
   ],
   "source": [
    "# 배정도 부동수수점으로 표현할 수 있는 가장 큰 수 \n",
    "\n",
    "sys.float_info.max"
   ]
  },
  {
   "cell_type": "code",
   "execution_count": 7,
   "metadata": {},
   "outputs": [
    {
     "data": {
      "text/plain": [
       "2.2250738585072014e-308"
      ]
     },
     "execution_count": 7,
     "metadata": {},
     "output_type": "execute_result"
    }
   ],
   "source": [
    "# 배정도 부동소수점으로 표현할 수 있는 가장 작은 수 \n",
    "\n",
    "sys.float_info.min"
   ]
  },
  {
   "cell_type": "code",
   "execution_count": 9,
   "metadata": {},
   "outputs": [
    {
     "data": {
      "text/plain": [
       "2.220446049250313e-16"
      ]
     },
     "execution_count": 9,
     "metadata": {},
     "output_type": "execute_result"
    }
   ],
   "source": [
    "# 5. 정밀도에 대한 고찰\n",
    "    \n",
    "# 5.1 엡실론\n",
    "    \n",
    "import sys\n",
    "sys.float_info.epsilon"
   ]
  },
  {
   "cell_type": "code",
   "execution_count": 10,
   "metadata": {},
   "outputs": [
    {
     "data": {
      "text/plain": [
       "1.7763568394002505e-15"
      ]
     },
     "execution_count": 10,
     "metadata": {},
     "output_type": "execute_result"
    }
   ],
   "source": [
    "# 5.2 엡실론과 정밀도\n",
    "\n",
    "import sys\n",
    "ep = sys.float_info.epsilon\n",
    "a = 9.25\n",
    "diff = (2**3)*ep\n",
    "diff"
   ]
  },
  {
   "cell_type": "code",
   "execution_count": 12,
   "metadata": {},
   "outputs": [
    {
     "data": {
      "text/plain": [
       "9.250000000000002"
      ]
     },
     "execution_count": 12,
     "metadata": {},
     "output_type": "execute_result"
    }
   ],
   "source": [
    "b = a+diff\n",
    "b"
   ]
  },
  {
   "cell_type": "code",
   "execution_count": 13,
   "metadata": {},
   "outputs": [
    {
     "data": {
      "text/plain": [
       "True"
      ]
     },
     "execution_count": 13,
     "metadata": {},
     "output_type": "execute_result"
    }
   ],
   "source": [
    "# 5.2 엡실론과 정밀도 \n",
    "\n",
    "import sys\n",
    "ep = sys.float_info.epsilon\n",
    "diff = (2**3)*ep\n",
    "diff\n",
    "a = 9.25\n",
    "half_diff = diff/2\n",
    "\n",
    "c = a + half_diff\n",
    "a == c\n"
   ]
  },
  {
   "cell_type": "code",
   "execution_count": 15,
   "metadata": {
    "scrolled": true
   },
   "outputs": [
    {
     "data": {
      "text/plain": [
       "9007199254740992.0"
      ]
     },
     "execution_count": 15,
     "metadata": {},
     "output_type": "execute_result"
    }
   ],
   "source": [
    "a = (2.0) ** 53\n",
    "a\n"
   ]
  },
  {
   "cell_type": "code",
   "execution_count": 17,
   "metadata": {},
   "outputs": [
    {
     "data": {
      "text/plain": [
       "2.0"
      ]
     },
     "execution_count": 17,
     "metadata": {},
     "output_type": "execute_result"
    }
   ],
   "source": [
    "diff_new = (2**53)*ep\n",
    "diff_new"
   ]
  },
  {
   "cell_type": "code",
   "execution_count": 18,
   "metadata": {},
   "outputs": [
    {
     "data": {
      "text/plain": [
       "True"
      ]
     },
     "execution_count": 18,
     "metadata": {},
     "output_type": "execute_result"
    }
   ],
   "source": [
    "b = a+1.0\n",
    "a == b\n"
   ]
  },
  {
   "cell_type": "code",
   "execution_count": null,
   "metadata": {},
   "outputs": [],
   "source": []
  }
 ],
 "metadata": {
  "kernelspec": {
   "display_name": "Python 3",
   "language": "python",
   "name": "python3"
  },
  "language_info": {
   "codemirror_mode": {
    "name": "ipython",
    "version": 3
   },
   "file_extension": ".py",
   "mimetype": "text/x-python",
   "name": "python",
   "nbconvert_exporter": "python",
   "pygments_lexer": "ipython3",
   "version": "3.6.5"
  }
 },
 "nbformat": 4,
 "nbformat_minor": 2
}

{
 "cells": [
  {
   "cell_type": "markdown",
   "metadata": {},
   "source": [
    "```\n",
    "수를 표현하는 다양한 방법과 수의 종류중 하나인 정수를 살펴보자. \n",
    "양의 정수와 음의 정수가 메모리에 어떻게 저장되는지 알아보자.\n",
    "\n",
    "\n",
    "        2.  정수 \n",
    "                1. 컴퓨터에서 수를 표현하는 방법\n",
    "                    1.1 10진수\n",
    "                    1.2 2진수\n",
    "                    1.3 16진수\n",
    "                2. 10진수를 2진수로\n",
    "                3. 2진수를 10진수로\n",
    "                4. 16 진수를 10진수로 \n",
    "                5. 코딩으로 확인하는 진수 변환 \n",
    "                6. 양의 정수 \n",
    "                7. 음의 정수\n",
    "                    7.1 보수의 개념\n",
    "                    7.2 2의 보수\n",
    "                    7.3 음의 표현\n",
    "                    7.4 2의 보수로 표현하는 이유\n",
    "                8 마무리 \n",
    "\n",
    "\n",
    "\n",
    "1. 컴퓨터에서 수를 표현하는 방법\n",
    "\n",
    "    1.1 10진수        0~ 9 \n",
    "    1.2 2진수           0~1 \n",
    "    1.3 16진수         0~9~abcdef\n",
    "\n",
    "\n",
    "\n",
    "2. 10진수를 2진수로 \n",
    "\n",
    "    25를 2진수로 변환하면 11001\n",
    "    \n",
    "        bin(25) ------------> ' 0b11001'                       ( 0b는 2진수를 의미하는 binary        16진수는 앞에 0x붙여준다.)\n",
    "\n",
    "\n",
    "\n",
    "3.  2진수를 10진수로 \n",
    "\n",
    "4.  16진수를 2진수로 \n",
    "\n",
    "    16진수 한자리는 2진수 네 자릿 수까지 표현할 수 있다. \n",
    "    b는 10진수로 11 ---------> 0b1011\n",
    "    c는 10진수로 12 ---------> 0b1100\n",
    "    f는 10진수로 16  ---------> 0b1111\n",
    "\n",
    "\n",
    "\n",
    "5.  코딩으로 확인하는 진수 변환 \n",
    "    \n",
    "\n",
    "    a = 0xa\n",
    "    print(bin(a))\n",
    "\n",
    "    b = 0xb\n",
    "    print(bin(b))\n",
    "    \n",
    "    c = 0xc\n",
    "    print(bin(c))\n",
    "\n",
    "    d = 0xd\n",
    "    print(bin(d))\n",
    "\n",
    "    e = 0xe\n",
    "    print(bin(e))\n",
    "\n",
    "    f = 0xf\n",
    "    print(bin(f))\n",
    "\n",
    "    -------->\n",
    "    \n",
    "    0b1010\n",
    "    0b1011\n",
    "    0b1100\n",
    "    0b1101\n",
    "    0b1110\n",
    "    0b1111    \n",
    "\n",
    "\n",
    "    address_8bit = 0b00101101\n",
    "    hex(address_8bit)                                            \n",
    "\n",
    "        -------------->\n",
    "         '0x2d'\n",
    "\n",
    "    hex는 정수를 16진수로 표현한다. \n",
    "    2진수로 표현하면 8 비트를 표현하는 데 여덟 자릿수가 필요하지만 \n",
    "    16 진수로 표현하면 두자릿수로 간단하게 나타낼 수 있어 가독성 높일 수 있다. \n",
    "    이런 이유로 메모리 주소 나타낼 때는 16진수를 사용한다. \n",
    "        \n",
    "address_32bit = 0x1234abcd\n",
    "bin(address_32bit)\n",
    "    \n",
    "------------->\n",
    "'0b10010001101001010101111001101'\n",
    "\n",
    "\n",
    "\n",
    "\n",
    "6.양의 정수\n",
    "    \n",
    "    컴퓨터는 정수를 1,2,4,8 등의 바이트 등 다양한 크기로 저장하지만  여기선 편의상 1파이트를 기준으로 설명하겠다. \n",
    "    \n",
    "    맨 앞의 비트가 0이면 양수 1이면 음수이다. \n",
    "    \n",
    "    예를 들어 25를 메모리에 저장할때 \n",
    "    0    00  11001                                          ( 0 - > 부호 , 00 -> 빈곳, 11001 -> 25)\n",
    "\n",
    "    1바이트 --> 8bit  -->  2^8 개 나타낼 수 있지만 정수에 음수 포함되고 맨 앞의 비트를 부호로 사용하므로 표현할 수 있는\n",
    "    양수의 범위는 절반으로 줄어든다. \n",
    "    -128 ~ 127  \n",
    "\n",
    "\n",
    "7.  음의 정수 \n",
    "\n",
    "컴퓨터는 음수를 보수 형태로 저장한다 .\n",
    "\n",
    "    7.1 보수의 개념\n",
    "\n",
    "        보수란 보충해 주는수 .\n",
    "        10진수 에서 9의 보수를 구한다 가정해 보면 \n",
    "        26의  9의 보수는 2,6 을 더해 9가 되는 수인 73\n",
    "\n",
    "        26의 10의 보수를 구해보면  (보충해서 10의 배수가 되는수.)\n",
    "        26의 9의 보수인 73에 1 더한 값인 74 \n",
    "\n",
    "    7.2  2의 보수\n",
    "\n",
    "        2진수 1010의 1의 보수 ------> 0101 ( 10진수에서 9의보수 구할때 9에서 각 자리 뺐듯, 여기선 1에서 각 자리를 뺀다. --> 0, 1 반전한 결과 )\n",
    "        2진수 1010의 2의 보수 -------> 1010의 1의 보수가 0101이므로 여기에 1을 더한  0110\n",
    "\n",
    "    7.3 음수의 표현 \n",
    "\n",
    "        컴퓨터는 음수를 2의 보수로 표현한다.\n",
    "                                    0000  0100           (4)\n",
    "        1의보수     -->    1111  1011  \n",
    "        2의 보수   ---->   1111 1100             (-4)\n",
    "\n",
    "        컴퓨터는 -4를 1111 1100으로 표현한다.     \n",
    "            \n",
    "                (-4).to_bytes(1, byteorder='little', signed = True)\n",
    "                --------->\n",
    "                b'\\xfc'\n",
    "                \n",
    "        이 코드는 -4 라는 정수를 컴퓨터 메모리에 저장되는 '바이트' 형태로 표현한 코드.\n",
    "        1 --> 1바이트로 진행 하겠다. \n",
    "        byteoder --> 9장 참고\n",
    "        signed --> 음수, 양수 표시 .\n",
    "\n",
    "    7.4 2의 보수로 표현한 이유.\n",
    "        \n",
    "        1. 양수 음수를 모두 양수처럼 저장한다면 0000 0000 과 1000 0000 은 +0과 -0이 된다. \n",
    "            즉 0을 표현하는 방법이 두가지 존재. 비트 하나를 낭비한 셈.\n",
    "            또한 두수를 비교할때 CPU에서 뺄셈하는데 +0. -0 비교하면 서로 다른 결과 나온다. \n",
    "        \n",
    "        2. 덧샘은 단순히 두수 더하면 되지만\n",
    "            뺄샘은 2의 보수 개념을 활용한다. \n",
    "            9 -4 계산시 9와 -4를 더한다. \n",
    "            \n",
    "                    0000    1001        (9)\n",
    "                    1111    1100        (-4)\n",
    "            --------------------------------------------\n",
    "                 1\\ 0000    0101        (5)\n",
    "\n",
    "            계산결과에 받아올림이 발생하여 1 0000   0101이 나오는데 \n",
    "            이때 받아올림 수 는버리면 된다.\n",
    "            \n",
    "        \n",
    "\n",
    "```"
   ]
  },
  {
   "cell_type": "code",
   "execution_count": null,
   "metadata": {},
   "outputs": [],
   "source": []
  },
  {
   "cell_type": "code",
   "execution_count": null,
   "metadata": {},
   "outputs": [],
   "source": []
  },
  {
   "cell_type": "code",
   "execution_count": null,
   "metadata": {},
   "outputs": [],
   "source": []
  },
  {
   "cell_type": "code",
   "execution_count": null,
   "metadata": {},
   "outputs": [],
   "source": [
    "# 2.  10진수를 2진수로 \n",
    "\n",
    "bin(25)"
   ]
  },
  {
   "cell_type": "code",
   "execution_count": 12,
   "metadata": {},
   "outputs": [
    {
     "name": "stdout",
     "output_type": "stream",
     "text": [
      "0b1010\n",
      "0b1011\n",
      "0b1100\n",
      "0b1101\n",
      "0b1110\n",
      "0b1111\n"
     ]
    }
   ],
   "source": [
    "# 5.   코딩으로 확인하는 진수변환 \n",
    "\n",
    "a = 0xa\n",
    "print(bin(a))\n",
    "\n",
    "\n",
    "b = 0xb\n",
    "print(bin(b))\n",
    "\n",
    "c = 0xc\n",
    "print(bin(c))\n",
    "\n",
    "d = 0xd\n",
    "print(bin(d))\n",
    "\n",
    "e = 0xe\n",
    "print(bin(e))\n",
    "\n",
    "f = 0xf\n",
    "print(bin(f))"
   ]
  },
  {
   "cell_type": "code",
   "execution_count": 13,
   "metadata": {},
   "outputs": [
    {
     "data": {
      "text/plain": [
       "'0x2d'"
      ]
     },
     "execution_count": 13,
     "metadata": {},
     "output_type": "execute_result"
    }
   ],
   "source": [
    "address_8bit = 0b00101101\n",
    "hex(address_8bit)"
   ]
  },
  {
   "cell_type": "code",
   "execution_count": 14,
   "metadata": {},
   "outputs": [
    {
     "data": {
      "text/plain": [
       "'0b10010001101001010101111001101'"
      ]
     },
     "execution_count": 14,
     "metadata": {},
     "output_type": "execute_result"
    }
   ],
   "source": [
    "address_32bit = 0x1234abcd\n",
    "bin(address_32bit)"
   ]
  },
  {
   "cell_type": "code",
   "execution_count": 15,
   "metadata": {},
   "outputs": [
    {
     "data": {
      "text/plain": [
       "b'\\xfc'"
      ]
     },
     "execution_count": 15,
     "metadata": {},
     "output_type": "execute_result"
    }
   ],
   "source": [
    "# 7.3 음수의 표현 \n",
    "\n",
    "# 컴퓨터는 -4를 1111 1100으로 표현한다.\n",
    "\n",
    "(-4).to_bytes(1, byteorder='little', signed = True)"
   ]
  },
  {
   "cell_type": "code",
   "execution_count": null,
   "metadata": {},
   "outputs": [],
   "source": []
  }
 ],
 "metadata": {
  "kernelspec": {
   "display_name": "Python 3",
   "language": "python",
   "name": "python3"
  },
  "language_info": {
   "codemirror_mode": {
    "name": "ipython",
    "version": 3
   },
   "file_extension": ".py",
   "mimetype": "text/x-python",
   "name": "python",
   "nbconvert_exporter": "python",
   "pygments_lexer": "ipython3",
   "version": "3.6.5"
  }
 },
 "nbformat": 4,
 "nbformat_minor": 2
}
